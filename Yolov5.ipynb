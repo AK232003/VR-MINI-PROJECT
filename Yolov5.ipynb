{
 "cells": [
  {
   "cell_type": "code",
   "execution_count": 115,
   "metadata": {},
   "outputs": [],
   "source": [
    "import torch\n",
    "import cv2\n",
    "import numpy as np"
   ]
  },
  {
   "cell_type": "code",
   "execution_count": 116,
   "metadata": {},
   "outputs": [
    {
     "name": "stderr",
     "output_type": "stream",
     "text": [
      "Using cache found in /home/ak232003/.cache/torch/hub/ultralytics_yolov5_master\n",
      "YOLOv5 🚀 2023-3-20 Python-3.8.10 torch-1.13.0+cu117 CUDA:0 (NVIDIA GeForce RTX 2070 with Max-Q Design, 7982MiB)\n",
      "\n",
      "Fusing layers... \n",
      "YOLOv5s summary: 213 layers, 7225885 parameters, 0 gradients\n",
      "Adding AutoShape... \n"
     ]
    }
   ],
   "source": [
    "# Load YOLOv5 model\n",
    "model = torch.hub.load('ultralytics/yolov5', 'yolov5s', pretrained=True)  # Choose YOLOv5s or YOLOv5x\n"
   ]
  },
  {
   "cell_type": "code",
   "execution_count": 117,
   "metadata": {},
   "outputs": [],
   "source": [
    "img = cv2.imread('cars.jpg')"
   ]
  },
  {
   "cell_type": "code",
   "execution_count": 118,
   "metadata": {},
   "outputs": [],
   "source": [
    "# # Preprocess image\n",
    "# img = cv2.cvtColor(img, cv2.COLOR_BGR2RGB)\n",
    "# img_h, img_w = img.shape[:2]\n",
    "# new_h = int(np.ceil(img_h / 32) * 32)\n",
    "# new_w = int(np.ceil(img_w / 32) * 32)\n",
    "# resized_img = cv2.resize(img, (new_w, new_h))\n",
    "# img_tensor = torch.from_numpy(resized_img).permute(2, 0, 1).float() / 255.0\n",
    "# img_tensor -= torch.tensor([0.485, 0.456, 0.406]).view(3, 1, 1)\n",
    "# img_tensor /= torch.tensor([0.229, 0.224, 0.225]).view(3, 1, 1)\n",
    "# img_tensor = img_tensor.unsqueeze(0)"
   ]
  },
  {
   "cell_type": "code",
   "execution_count": 119,
   "metadata": {},
   "outputs": [],
   "source": [
    "# Run inference\n",
    "results = model(img)"
   ]
  },
  {
   "cell_type": "code",
   "execution_count": 120,
   "metadata": {},
   "outputs": [
    {
     "data": {
      "text/plain": [
       "YOLOv5 <class 'models.common.Detections'> instance\n",
       "image 1/1: 414x621 9 persons, 16 cars, 2 trucks\n",
       "Speed: 2.1ms pre-process, 10.4ms inference, 1.3ms NMS per image at shape (1, 3, 448, 640)"
      ]
     },
     "execution_count": 120,
     "metadata": {},
     "output_type": "execute_result"
    }
   ],
   "source": [
    "results"
   ]
  },
  {
   "cell_type": "code",
   "execution_count": 121,
   "metadata": {},
   "outputs": [],
   "source": [
    "# Get car detections\n",
    "car_results = results.pred[0][results.pred[0][:, 5] == 2]  # 2 is the class ID for cars\n"
   ]
  },
  {
   "cell_type": "code",
   "execution_count": 122,
   "metadata": {},
   "outputs": [],
   "source": [
    "# # Extract bounding boxes and confidences\n",
    "# boxes = car_results[:, :4].cpu().numpy()\n",
    "# confidences = car_results[:, 4].cpu().numpy()\n",
    "\n",
    "# # Draw bounding boxes around cars with confidence > 0.5\n",
    "# for box, confidence in zip(boxes, confidences):\n",
    "#     if confidence > 0.5:\n",
    "#         x1, y1, x2, y2 = box.astype(int)\n",
    "#         cv2.rectangle(img, (x1, y1), (x2, y2), (0, 255, 0), 2)\n",
    "\n",
    "# # Display image\n",
    "# cv2.imshow('image', img)\n",
    "# cv2.waitKey(0)\n",
    "# cv2.destroyAllWindows()"
   ]
  },
  {
   "cell_type": "code",
   "execution_count": 123,
   "metadata": {},
   "outputs": [],
   "source": [
    "cap = cv2.VideoCapture('./mp4/Test 1 .mp4')"
   ]
  },
  {
   "cell_type": "code",
   "execution_count": 124,
   "metadata": {},
   "outputs": [],
   "source": [
    "while cap.isOpened():\n",
    "    ret, frame = cap.read()\n",
    "    if not ret:\n",
    "        break\n",
    "\n",
    "    results = model(frame)\n",
    "    car_results = results.pred[0][results.pred[0][:, 5] == 2]\n",
    "\n",
    "    # # Extract bounding boxes and confidences\n",
    "    # boxes = car_results[:, :4].cpu().numpy()\n",
    "    # confidences = car_results[:, 4].cpu().numpy()\n",
    "\n",
    "    # # Draw bounding boxes around cars with confidence > 0.5\n",
    "    # for box, confidence in zip(boxes, confidences):\n",
    "    #     if confidence > 0.5:\n",
    "    #         x1, y1, x2, y2 = box.astype(int)\n",
    "    #         cv2.rectangle(img, (x1, y1), (x2, y2), (0, 255, 0), 2)\n",
    "\n",
    "    # Draw bounding boxes around cars\n",
    "    for det in car_results:\n",
    "        x1, y1, x2, y2, conf, cls = map(int, det)\n",
    "        cv2.rectangle(frame, (x1, y1), (x2, y2), (0, 255, 0), 2)\n",
    "\n",
    "    # Display result\n",
    "    cv2.imshow('result', frame)\n",
    "\n",
    "    # Exit loop if 'q' is pressed\n",
    "    if cv2.waitKey(1) & 0xFF == ord('q'):\n",
    "        break\n",
    "\n",
    "# Release video capture and destroy windows\n",
    "cap.release()\n",
    "cv2.destroyAllWindows()\n"
   ]
  },
  {
   "cell_type": "code",
   "execution_count": null,
   "metadata": {},
   "outputs": [],
   "source": []
  }
 ],
 "metadata": {
  "kernelspec": {
   "display_name": "Python 3",
   "language": "python",
   "name": "python3"
  },
  "language_info": {
   "codemirror_mode": {
    "name": "ipython",
    "version": 3
   },
   "file_extension": ".py",
   "mimetype": "text/x-python",
   "name": "python",
   "nbconvert_exporter": "python",
   "pygments_lexer": "ipython3",
   "version": "3.8.10"
  },
  "orig_nbformat": 4
 },
 "nbformat": 4,
 "nbformat_minor": 2
}
