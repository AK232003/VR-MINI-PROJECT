{
 "cells": [
  {
   "cell_type": "code",
   "execution_count": 72,
   "metadata": {},
   "outputs": [],
   "source": [
    "import cv2\n",
    "import numpy as np"
   ]
  },
  {
   "cell_type": "code",
   "execution_count": 73,
   "metadata": {},
   "outputs": [],
   "source": [
    "# load the YOLOv2 model\n",
    "net = cv2.dnn.readNetFromDarknet('yolov2.cfg', 'yolov2.weights')"
   ]
  },
  {
   "cell_type": "code",
   "execution_count": 74,
   "metadata": {},
   "outputs": [],
   "source": [
    "cap = cv2.VideoCapture('../mp4/Test 1 .mp4')"
   ]
  },
  {
   "cell_type": "code",
   "execution_count": 75,
   "metadata": {},
   "outputs": [],
   "source": [
    "# while cap.isOpened():\n",
    "#     # read each frame\n",
    "#     ret, frame = cap.read()\n",
    "#     if not ret:\n",
    "#         break\n",
    "#     # preprocess the frame\n",
    "#     input_size = (416, 416)\n",
    "#     # print(frame.shape)\n",
    "#     blob = cv2.dnn.blobFromImage(frame, 1/255.0, input_size, swapRB=True, crop=False)\n",
    "#     net.setInput(blob)\n",
    "\n",
    "#     # run the forward pass of the model\n",
    "#     detections = net.forward()\n",
    "\n",
    "#     # loop through the detections\n",
    "#     for detection in detections:\n",
    "#         class_id = detection[1]\n",
    "#         confidence = detection[2]\n",
    "    \n",
    "#     # filter out the cars\n",
    "#     if class_id == 2 and confidence > 0.5:\n",
    "#         # get the bounding box coordinates\n",
    "#         box = detection[3:7] * np.array([frame.shape[1], frame.shape[0], frame.shape[1], frame.shape[0]])\n",
    "#         (x, y, w, h) = box.astype(\"int\")\n",
    "        \n",
    "#         # draw the bounding box\n",
    "#         cv2.rectangle(frame, (x, y), (x + w, y + h), (0, 255, 0), 2)\n",
    "\n",
    "#     # display the resulting frame\n",
    "#     cv2.imshow('frame', frame)\n",
    "\n",
    "#     # press 'q' to exit\n",
    "#     if cv2.waitKey(1) == ord('q'):\n",
    "#         break\n",
    "\n",
    "# cap.release()\n",
    "# cv2.destroyAllWindows()"
   ]
  },
  {
   "cell_type": "code",
   "execution_count": 76,
   "metadata": {},
   "outputs": [],
   "source": [
    "while True:\n",
    "    ret, frame = cap.read()\n",
    "    if not ret:\n",
    "        break\n",
    "\n",
    "    # Resize the frame to the input size expected by YOLOv2\n",
    "    blob = cv2.dnn.blobFromImage(frame, 1/255, (416, 416), swapRB=True, crop=False)\n",
    "\n",
    "    # Set the input blob for YOLOv2\n",
    "    net.setInput(blob)\n",
    "\n",
    "    # Perform forward pass and get the output\n",
    "    output = net.forward()\n",
    "\n",
    "    # Loop over the detected objects and draw bounding boxes\n",
    "    for detection in output:\n",
    "        scores = detection[5:]\n",
    "        class_id = np.argmax(scores)\n",
    "        confidence = scores[class_id]\n",
    "        if confidence > 0.5 and class_id == 2: # Car class ID is 2 in COCO dataset\n",
    "            center_x = int(detection[0] * frame.shape[1])\n",
    "            center_y = int(detection[1] * frame.shape[0])\n",
    "            w = int(detection[2] * frame.shape[1])\n",
    "            h = int(detection[3] * frame.shape[0])\n",
    "            x = int(center_x - w/2)\n",
    "            y = int(center_y - h/2)\n",
    "\n",
    "            # Draw the bounding box\n",
    "            # cv2.rectangle(frame, (x, y), (x + w, y + h), (0, 255, 0), 2)\n",
    "            cv2.rectangle(frame, (x, y), (x + w, y + h), (0, 255, 0), 2) # Draw Rectangle with the coordinate\n",
    "            cv2.putText(frame, \"Car\", (int(x), int(y)),  cv2.FONT_HERSHEY_SIMPLEX, 1, (0,255,0),thickness=3) # Write the prediction class\n",
    "\n",
    "    # Show the frame with bounding boxes\n",
    "    cv2.imshow(\"Frame\", frame)\n",
    "    key = cv2.waitKey(1)\n",
    "    if key == ord('q'):\n",
    "        break\n",
    "\n",
    "cap.release()\n",
    "cv2.destroyAllWindows()"
   ]
  }
 ],
 "metadata": {
  "kernelspec": {
   "display_name": "Python 3",
   "language": "python",
   "name": "python3"
  },
  "language_info": {
   "codemirror_mode": {
    "name": "ipython",
    "version": 3
   },
   "file_extension": ".py",
   "mimetype": "text/x-python",
   "name": "python",
   "nbconvert_exporter": "python",
   "pygments_lexer": "ipython3",
   "version": "3.8.10"
  },
  "orig_nbformat": 4
 },
 "nbformat": 4,
 "nbformat_minor": 2
}
